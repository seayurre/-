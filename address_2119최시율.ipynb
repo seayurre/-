{
  "cells": [
    {
      "cell_type": "markdown",
      "metadata": {
        "id": "OWADEiVNF0UU"
      },
      "source": [
        "# 인구 공공데이터로 우리 동네 인구구조 분석하기\n",
        "\n",
        "https://jumin.mois.go.kr/\n",
        "연령별 인구현황 -> \n",
        "\n",
        "행정구역(서울특별시), 조회기간(월간, 2022년 1월), 구분('계'), 연령구분단위(10세), 만연령구분( 0, 100이상 검색) -> \n",
        "\n",
        "전체읍면동현황 선택 -> csv파일 다운"
      ]
    },
    {
      "cell_type": "code",
      "execution_count": 1,
      "metadata": {
        "colab": {
          "base_uri": "https://localhost:8080/"
        },
        "id": "jW3QoYn0Fwpz",
        "outputId": "62152d35-9fa5-4c3a-b634-a82dad8e7fa8"
      },
      "outputs": [
        {
          "output_type": "stream",
          "name": "stdout",
          "text": [
            "Mounted at /content/drive\n"
          ]
        }
      ],
      "source": [
        "# 구글 코랩과 구글 드라이브 연동\n",
        "from google.colab import drive\n",
        "drive.mount('/content/drive')"
      ]
    },
    {
      "cell_type": "code",
      "execution_count": 2,
      "metadata": {
        "id": "LH8JRE3zJGO9"
      },
      "outputs": [],
      "source": [
        "path='/content/drive/MyDrive/인공지능A/age_2201.csv' #파일경로 저장"
      ]
    },
    {
      "cell_type": "markdown",
      "metadata": {
        "id": "7dU70Nlx3HCD"
      },
      "source": [
        "###1. 서대문구 천연동 인구분포 확인하기"
      ]
    },
    {
      "cell_type": "code",
      "execution_count": 3,
      "metadata": {
        "colab": {
          "base_uri": "https://localhost:8080/"
        },
        "id": "i69Vpxy8Jelx",
        "outputId": "0bacc93d-cabc-46ef-bc1c-5f667fb7d94d"
      },
      "outputs": [
        {
          "output_type": "stream",
          "name": "stdout",
          "text": [
            "['서울특별시 서대문구 천연동(1141052000)', '17,107', '17,107', '1,146', '1,377', '2,118', '2,305', '2,618', '3,028', '2,280', '1,338', '797', '95', '5']\n"
          ]
        }
      ],
      "source": [
        "import csv\n",
        "f=open(path, encoding='cp949')\n",
        "data=csv.reader(f)\n",
        "\n",
        "for row in data :\n",
        "  if row[0] == \"서울특별시 서대문구 천연동(1141052000)\":  #'행정구역'열의 정확한 명칭--11141052000 이런 것까지 알아야 해서 불편함\n",
        "    print(row)"
      ]
    },
    {
      "cell_type": "code",
      "execution_count": 4,
      "metadata": {
        "colab": {
          "base_uri": "https://localhost:8080/"
        },
        "id": "UCECY8P3LOUT",
        "outputId": "e9eed5b7-0c40-4ced-e62f-149d55afdb09"
      },
      "outputs": [
        {
          "output_type": "stream",
          "name": "stdout",
          "text": [
            "['서울특별시 서대문구 천연동(1141052000)', '17,107', '17,107', '1,146', '1,377', '2,118', '2,305', '2,618', '3,028', '2,280', '1,338', '797', '95', '5']\n"
          ]
        }
      ],
      "source": [
        "import csv\n",
        "f=open(path, encoding='cp949')\n",
        "data=csv.reader(f)\n",
        "\n",
        "for row in data:\n",
        "  if '천연동' in row[0]:   #엑셀 파일 안 열고 알아서 잘 찾기- '천연동' 이라는 단어가 들어가 있다면 뽑아오기\n",
        "    print(row)"
      ]
    },
    {
      "cell_type": "markdown",
      "metadata": {
        "id": "61-x0K0H3LzL"
      },
      "source": [
        "###2. 헤더 확인"
      ]
    },
    {
      "cell_type": "code",
      "execution_count": 6,
      "metadata": {
        "colab": {
          "base_uri": "https://localhost:8080/"
        },
        "id": "FOOHs9zxNzNQ",
        "outputId": "d5c1a662-ea54-41d1-c345-34b85c324538"
      },
      "outputs": [
        {
          "output_type": "stream",
          "name": "stdout",
          "text": [
            "['행정구역', '2022년01월_계_총인구수', '2022년01월_계_연령구간인구수', '2022년01월_계_0~9세', '2022년01월_계_10~19세', '2022년01월_계_20~29세', '2022년01월_계_30~39세', '2022년01월_계_40~49세', '2022년01월_계_50~59세', '2022년01월_계_60~69세', '2022년01월_계_70~79세', '2022년01월_계_80~89세', '2022년01월_계_90~99세', '2022년01월_계_100세 이상']\n"
          ]
        }
      ],
      "source": [
        "import csv\n",
        "f=open(path, encoding='cp949')\n",
        "data=csv.reader(f)\n",
        "header=next(data)\n",
        "print(header)"
      ]
    },
    {
      "cell_type": "markdown",
      "metadata": {
        "id": "Q3gecXyD3QfX"
      },
      "source": [
        "###3. 0세~100세이상 데이터만 뽑아보기"
      ]
    },
    {
      "cell_type": "code",
      "execution_count": 7,
      "metadata": {
        "colab": {
          "base_uri": "https://localhost:8080/"
        },
        "id": "Kd82nIPZOTt2",
        "outputId": "8b78c9a6-dff2-4f67-e09f-70aeec32ef11"
      },
      "outputs": [
        {
          "output_type": "stream",
          "name": "stdout",
          "text": [
            "1,146\n",
            "1,377\n",
            "2,118\n",
            "2,305\n",
            "2,618\n",
            "3,028\n",
            "2,280\n",
            "1,338\n",
            "797\n",
            "95\n",
            "5\n"
          ]
        },
        {
          "output_type": "execute_result",
          "data": {
            "text/plain": [
              "str"
            ]
          },
          "metadata": {},
          "execution_count": 7
        }
      ],
      "source": [
        "import csv\n",
        "f=open(path, encoding='cp949')\n",
        "data=csv.reader(f)\n",
        "\n",
        "for row in data:\n",
        "  if '천연동' in  row[0]: \n",
        "    for i in row[3:]: # 계_0세~100세이상\n",
        "      print(i)\n",
        "type(row[3])  #데이터 저장 형태 확인--문자열이네!"
      ]
    },
    {
      "cell_type": "markdown",
      "metadata": {
        "id": "-BR0LBb63WC5"
      },
      "source": [
        "###4. 그래프 그리기\n",
        "문자형 데이터를 정수형으로 변환, 그 전에 쉼표(,)기호 없애기!"
      ]
    },
    {
      "cell_type": "code",
      "execution_count": 8,
      "metadata": {
        "colab": {
          "base_uri": "https://localhost:8080/",
          "height": 283
        },
        "id": "1AB3p2JoOp-P",
        "outputId": "9550e97b-159b-4122-96c6-69cd75dd295f"
      },
      "outputs": [
        {
          "output_type": "stream",
          "name": "stdout",
          "text": [
            "[1146, 1377, 2118, 2305, 2618, 3028, 2280, 1338, 797, 95, 5]\n"
          ]
        },
        {
          "output_type": "display_data",
          "data": {
            "text/plain": [
              "<Figure size 432x288 with 1 Axes>"
            ],
            "image/png": "[encoded data removed]"
          },
          "metadata": {
            "needs_background": "light"
          }
        }
      ],
      "source": [
        "import matplotlib.pyplot as plt\n",
        "import csv\n",
        "f=open(path, encoding='cp949')\n",
        "data=csv.reader(f)\n",
        "popu=[]    #인구수 저장 리스트\n",
        "\n",
        "for row in data:\n",
        "  if '천연동' in  row[0]:\n",
        "    for i in row[3:]:\n",
        "      popu.append(int(i.replace(',','')))  #정수형(int)로 변환, 쉼표를 빈칸''으로 변경\n",
        "                  \n",
        "print(popu)\n",
        "\n",
        "plt.plot(popu, 'ro-')\n",
        "plt.xticks(range(0,11),['0~','10~','20~','30~','40~','50~','60~','70~','80~','90~','100~']) #x축 라벨달기\n",
        "plt.show()"
      ]
    },
    {
      "cell_type": "markdown",
      "metadata": {
        "id": "z6W75XiZ3Eh8"
      },
      "source": [
        "###5. 알고 싶은 지역명을 대답으로 받아 보여주기\n"
      ]
    },
    {
      "cell_type": "code",
      "execution_count": 15,
      "metadata": {
        "colab": {
          "base_uri": "https://localhost:8080/",
          "height": 318
        },
        "id": "l_ePFCowXKrd",
        "outputId": "904d665f-70cd-4940-bb40-053a2481cb28"
      },
      "outputs": [
        {
          "output_type": "stream",
          "name": "stdout",
          "text": [
            "알고 싶은 지역의 이름(읍면동단위)를 입력해주세요:대치1동\n",
            "[1709, 5334, 2365, 1389, 5597, 4019, 2049, 1131, 380, 73, 6]\n"
          ]
        },
        {
          "output_type": "display_data",
          "data": {
            "text/plain": [
              "<Figure size 432x288 with 1 Axes>"
            ],
            "image/png": "[encoded data removed]"
          },
          "metadata": {
            "needs_background": "light"
          }
        }
      ],
      "source": [
        "import matplotlib.pyplot as plt\n",
        "import csv\n",
        "f=open(path, encoding='cp949')\n",
        "data=csv.reader(f)\n",
        "popu2=[]  #새로운 지역명\n",
        "name = input(\"알고 싶은 지역의 이름(읍면동단위)를 입력해주세요:\")\n",
        "\n",
        "for row in data:\n",
        "  if name in  row[0]: \n",
        "    for i in row[3:]:\n",
        "      popu2.append(int(i.replace(',','')))\n",
        "\n",
        "print(popu2)\n",
        "plt.title('demographics')\n",
        "plt.plot(popu2, 'ro-')\n",
        "plt.xticks(range(0,11),['0~','10~','20~','30~','40~','50~','60~','70~','80~','90~','100~'])\n",
        "plt.show()"
      ]
    },
    {
      "cell_type": "markdown",
      "metadata": {
        "id": "xq5O9JsICcw0"
      },
      "source": [
        "# 남녀 구분하여 항아리 그래프 그리기\n"
      ]
    },
    {
      "cell_type": "markdown",
      "metadata": {
        "id": "LIoxXyaKClK-"
      },
      "source": [
        "https://jumin.mois.go.kr/\n",
        "연령별 인구현황 -> \n",
        "\n",
        "행정구역(서울특별시), 조회기간(월간, 2022년 1월), 구분(남여구분), 연령구분단위(10세), 만연령구분(0, 100이상) -> \n",
        "\n",
        "전체읍면동현황 선택 -> csv파일 다운"
      ]
    },
    {
      "cell_type": "code",
      "execution_count": 17,
      "metadata": {
        "id": "JjfOL8hiC3I9"
      },
      "outputs": [],
      "source": [
        "path3='/content/drive/MyDrive/인공지능A/age_2201_mf.csv'"
      ]
    },
    {
      "cell_type": "code",
      "execution_count": 18,
      "metadata": {
        "colab": {
          "base_uri": "https://localhost:8080/"
        },
        "id": "Y1Ty6ovq7e-E",
        "outputId": "e2631f59-834b-4878-94bd-b5af0c0731ca"
      },
      "outputs": [
        {
          "output_type": "stream",
          "name": "stdout",
          "text": [
            "['행정구역', '2022년01월_남_총인구수', '2022년01월_남_연령구간인구수', '2022년01월_남_0~9세', '2022년01월_남_10~19세', '2022년01월_남_20~29세', '2022년01월_남_30~39세', '2022년01월_남_40~49세', '2022년01월_남_50~59세', '2022년01월_남_60~69세', '2022년01월_남_70~79세', '2022년01월_남_80~89세', '2022년01월_남_90~99세', '2022년01월_남_100세 이상', '2022년01월_여_총인구수', '2022년01월_여_연령구간인구수', '2022년01월_여_0~9세', '2022년01월_여_10~19세', '2022년01월_여_20~29세', '2022년01월_여_30~39세', '2022년01월_여_40~49세', '2022년01월_여_50~59세', '2022년01월_여_60~69세', '2022년01월_여_70~79세', '2022년01월_여_80~89세', '2022년01월_여_90~99세', '2022년01월_여_100세 이상']\n"
          ]
        }
      ],
      "source": [
        "# 헤더 확인\n",
        "import csv\n",
        "f=open(path3, encoding='cp949')\n",
        "data=csv.reader(f)\n",
        "header=next(data)\n",
        "print(header)"
      ]
    },
    {
      "cell_type": "code",
      "execution_count": 19,
      "metadata": {
        "colab": {
          "base_uri": "https://localhost:8080/"
        },
        "id": "rd3K-G4gDXkm",
        "outputId": "516d64bb-2eb4-4790-f391-ed4187ee6883"
      },
      "outputs": [
        {
          "output_type": "stream",
          "name": "stdout",
          "text": [
            "[-574, -682, -1010, -1137, -1248, -1516, -1104, -546, -275, -22, -2]\n",
            "[572, 695, 1108, 1168, 1370, 1512, 1176, 792, 522, 73, 3]\n"
          ]
        }
      ],
      "source": [
        "#남, 여 각각 리스트에 저장\n",
        "import csv\n",
        "f=open(path3, encoding='cp949')\n",
        "data=csv.reader(f)\n",
        "m=[] #남성인구수\n",
        "f=[] #여성인구수\n",
        "\n",
        "for row in data:\n",
        "  if '천연동' in row[0]: # 천연동에 사는\n",
        "    for i in range(0,11): # 0세부터 100세까지 11개의 칸\n",
        "      m.append(-int(row[i+3].replace(',','')))  # 남성 연령별 인구수 모음 (남성데이터는 row[3]부터 시작, 그래프 왼쪽에 그리기 위해 음수로)\n",
        "      f.append(int(row[i+16].replace(',','')))  # 여성 연령별 인구수 모음 (여성데이터는 row[16]부터 시작)\n",
        "print(m)\n",
        "print(f)"
      ]
    },
    {
      "cell_type": "code",
      "execution_count": 20,
      "metadata": {
        "colab": {
          "base_uri": "https://localhost:8080/",
          "height": 265
        },
        "id": "Na2gdlgNESlD",
        "outputId": "b25693ec-41c6-47d5-ea86-ce6a33166f84"
      },
      "outputs": [
        {
          "output_type": "display_data",
          "data": {
            "text/plain": [
              "<Figure size 432x288 with 1 Axes>"
            ],
            "image/png": "[encoded data removed]"
          },
          "metadata": {
            "needs_background": "light"
          }
        }
      ],
      "source": [
        "#가로막대그래프 그리기\n",
        "\n",
        "import matplotlib.pyplot as plt\n",
        "plt.barh(range(11), m, label='male')\n",
        "plt.barh(range(11), f, label='female')\n",
        "plt.legend() #범례표시\n",
        "plt.yticks(range(0,11),['0~','10~','20~','30~','40~','50~','60~','70~','80~','90~','100~'])\n",
        "plt.show()"
      ]
    },
    {
      "cell_type": "code",
      "execution_count": 21,
      "metadata": {
        "colab": {
          "base_uri": "https://localhost:8080/",
          "height": 319
        },
        "id": "b5q00iWSF9BV",
        "outputId": "6bfd21a1-44c7-4ed1-eb95-231db939f5b9"
      },
      "outputs": [
        {
          "output_type": "stream",
          "name": "stdout",
          "text": [
            "알고 싶은 지역의 이름(읍면동단위)를 입력해주세요:대치1동\n",
            "[-906, -3002, -1222, -547, -2405, -2227, -968, -584, -193, -16, -2]\n",
            "[803, 2332, 1143, 842, 3192, 1792, 1081, 547, 187, 57, 4]\n"
          ]
        },
        {
          "output_type": "display_data",
          "data": {
            "text/plain": [
              "<Figure size 432x288 with 1 Axes>"
            ],
            "image/png": "[encoded data removed]"
          },
          "metadata": {
            "needs_background": "light"
          }
        }
      ],
      "source": [
        "# 사용자에게 입력받아 출력하기\n",
        "\n",
        "import csv\n",
        "f=open(path3, encoding='cp949')\n",
        "data=csv.reader(f)\n",
        "m2=[]\n",
        "f2=[]\n",
        "name2 = input(\"알고 싶은 지역의 이름(읍면동단위)를 입력해주세요:\")\n",
        "\n",
        "for row in data:\n",
        "  if name2 in row[0]:\n",
        "    for i in range(0,11):\n",
        "      m2.append(-int(row[i+3].replace(',','')))  # 남성 연령별 인구수 모음 (그래프 왼쪽에 그리기 위해 음수로 표현한거임!!)\n",
        "      f2.append(int(row[i+16].replace(',','')))  # 여성 연령별 인구수 모음\n",
        "print(m2)\n",
        "print(f2)\n",
        "\n",
        "import matplotlib.pyplot as plt\n",
        "plt.barh(range(11),m2, label='male')\n",
        "plt.barh(range(11),f2, label='female')\n",
        "plt.legend()\n",
        "plt.yticks(range(0,11),['0~','10~','20~','30~','40~','50~','60~','70~','80~','90~','100~'])\n",
        "plt.show()"
      ]
    },
    {
      "cell_type": "code",
      "execution_count": 22,
      "metadata": {
        "colab": {
          "base_uri": "https://localhost:8080/",
          "height": 302
        },
        "id": "Ipel4SHuGP7J",
        "outputId": "8578e3a0-8ec5-42ac-abfa-a472b92b7c17"
      },
      "outputs": [
        {
          "output_type": "stream",
          "name": "stdout",
          "text": [
            "[17460]\n",
            "[19709]\n",
            "[17460, 19709]\n"
          ]
        },
        {
          "output_type": "display_data",
          "data": {
            "text/plain": [
              "<Figure size 432x288 with 1 Axes>"
            ],
            "image/png": "[encoded data removed]"
          },
          "metadata": {}
        }
      ],
      "source": [
        "#남성과 여성의 총 인원수의 원그래프 그리기\n",
        "\n",
        "import csv\n",
        "f=open(path3, encoding='cp949')\n",
        "data=csv.reader(f)\n",
        "m3=[]\n",
        "f3=[]\n",
        "name3 = '공덕동' #input(\"알고 싶은 지역의 이름(읍면동단위)를 입력해주세요:\")\n",
        "\n",
        "for row in data:\n",
        "  if name3 in row[0]:\n",
        "    m3.append(int(row[1].replace(',','')))  # 남성 총 인구수\n",
        "    f3.append(int(row[14].replace(',','')))  # 여성 총 인구수\n",
        "print(m3)\n",
        "print(f3)\n",
        "\n",
        "size=[] #원그래프에 그릴 데이터의 값 저장\n",
        "size=m3+f3 #남성의 수와 여성의 수를 리스트에 나란히 저장\n",
        "print(size)\n",
        "plt.pie(size, labels=['male','female'], startangle=90, autopct='%.1f%%') # startangle=90 :12시방향부터 그리기, autopct : %값 보여주기\n",
        "plt.axis('equal')\n",
        "plt.show()"
      ]
    },
    {
      "cell_type": "code",
      "execution_count": null,
      "metadata": {
        "id": "NuMpBEVMG_Vw"
      },
      "outputs": [],
      "source": [
        ""
      ]
    }
  ],
  "metadata": {
    "colab": {
      "name": "address_2119최시율.ipynb",
      "provenance": []
    },
    "kernelspec": {
      "display_name": "Python 3",
      "language": "python",
      "name": "python3"
    },
    "language_info": {
      "codemirror_mode": {
        "name": "ipython",
        "version": 3
      },
      "file_extension": ".py",
      "mimetype": "text/x-python",
      "name": "python",
      "nbconvert_exporter": "python",
      "pygments_lexer": "ipython3",
      "version": "3.8.5"
    }
  },
  "nbformat": 4,
  "nbformat_minor": 0
}